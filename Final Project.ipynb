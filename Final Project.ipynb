{
 "cells": [
  {
   "cell_type": "markdown",
   "metadata": {},
   "source": [
    "# Final Project\n",
    "CS696 Big Data\n",
    "\n",
    "Professor Whitney\n",
    "\n",
    "Team:\n",
    "\n",
    "Kristi Werry - 823386935\n",
    "\n",
    "William Ritchie - 815829203"
   ]
  },
  {
   "cell_type": "markdown",
   "metadata": {},
   "source": [
    "## Description"
   ]
  },
  {
   "cell_type": "markdown",
   "metadata": {},
   "source": [
    "## Imports"
   ]
  },
  {
   "cell_type": "code",
   "execution_count": 4,
   "metadata": {},
   "outputs": [],
   "source": [
    "import numpy as np\n",
    "import pandas as pd\n",
    "from pyspark.sql import Row\n",
    "from pyspark.sql import DataFrame\n",
    "from pyspark.sql import SparkSession\n",
    "from pyspark.sql.types import IntegerType\n",
    "from pyspark.sql.types import BooleanType\n",
    "from pyspark.sql.types import StructType\n",
    "from pyspark.sql.types import StructField\n",
    "from pyspark.sql.types import StringType\n",
    "from pyspark.sql.types import DateType\n",
    "from pyspark.sql.types import TimestampType\n",
    "from pyspark.sql.functions import to_timestamp\n",
    "from pyspark.sql.functions import isnan, when, count, col\n",
    "from pyspark.sql.functions import lit\n",
    "import sys\n",
    "from pyspark.sql import SparkSession"
   ]
  },
  {
   "cell_type": "markdown",
   "metadata": {},
   "source": [
    "## Functions"
   ]
  },
  {
   "cell_type": "code",
   "execution_count": 21,
   "metadata": {},
   "outputs": [],
   "source": [
    "def Load_Datasets(sqlContext, files, schema):\n",
    "    data = sqlContext.createDataFrame([], schema=schema)\n",
    "    for file in files:\n",
    "        temp_data = sqlContext.read.csv(path=file[0], schema=schema, dateFormat=\"yy.dd.MM\", timestampFormat=\"yyyy-MM-dd\")\n",
    "        temp_data = temp_data.withColumn(\"country\", lit(file[1]))\n",
    "        data = data.union(temp_data)\n",
    "    return data"
   ]
  },
  {
   "cell_type": "markdown",
   "metadata": {},
   "source": [
    "## Importing Datasets"
   ]
  },
  {
   "cell_type": "code",
   "execution_count": 64,
   "metadata": {},
   "outputs": [],
   "source": [
    "sqlContext = SparkSession.builder.appName(\"FinalProjectYoutube\").getOrCreate();\n",
    "root_dir = \"youtube-new/\";\n",
    "\n",
    "# Set up the schema for reading in the data sets into a dataframe\n",
    "customSchema = StructType([\n",
    "  StructField(\"video_id\", StringType(), True),\n",
    "  StructField(\"trending_date\", DateType(), True),\n",
    "  StructField(\"title\", StringType(), True),\n",
    "  StructField(\"channel_title\", StringType(), True),\n",
    "  StructField(\"category_id\", StringType(), True),\n",
    "  StructField(\"publish_time\", TimestampType(), True),\n",
    "  StructField(\"tags\", StringType(), True),\n",
    "  StructField(\"views\", IntegerType(), True),\n",
    "  StructField(\"likes\", IntegerType(), True),\n",
    "  StructField(\"dislikes\", IntegerType(), True),\n",
    "  StructField(\"comment_count\", IntegerType(), True),\n",
    "  StructField(\"thumbnail_link\", StringType(), True),\n",
    "  StructField(\"comments_disabled\", BooleanType(), True),\n",
    "  StructField(\"ratings_disabled\", BooleanType(), True),\n",
    "  StructField(\"video_error_or_removed\", BooleanType(), True),\n",
    "  StructField(\"description\", StringType(), True),\n",
    "  StructField(\"country\", StringType(), True)\n",
    "])\n",
    "\n",
    "# Associate csv files with respective countries\n",
    "data_files = [\n",
    "   (root_dir + \"CAvideos.csv\", \"Canada\"),\n",
    "   (root_dir + \"DEvideos.csv\", \"Germany\"),\n",
    "   (root_dir + \"FRvideos.csv\", \"France\"),\n",
    "   (root_dir + \"GBvideos.csv\", \"England\"),\n",
    "   (root_dir + \"INvideos.csv\", \"India\"),\n",
    "   (root_dir + \"JPvideos.csv\", \"Japan\"),\n",
    "   (root_dir + \"KRvideos.csv\", \"South Korea\"),\n",
    "   (root_dir + \"MXvideos.csv\", \"Mexixo\"),\n",
    "   (root_dir + \"RUvideos.csv\", \"Russia\"),\n",
    "   (root_dir + \"USvideos.csv\", \"US\"),\n",
    "]\n",
    "\n",
    "# Read in datasets\n",
    "youtube_data_df = Load_Datasets(sqlContext, data_files, customSchema)"
   ]
  },
  {
   "cell_type": "markdown",
   "metadata": {},
   "source": [
    "## Dataset Cleaning "
   ]
  },
  {
   "cell_type": "markdown",
   "metadata": {},
   "source": [
    "#### Handle Duplicates"
   ]
  },
  {
   "cell_type": "code",
   "execution_count": 65,
   "metadata": {},
   "outputs": [
    {
     "data": {
      "text/html": [
       "<div>\n",
       "<style scoped>\n",
       "    .dataframe tbody tr th:only-of-type {\n",
       "        vertical-align: middle;\n",
       "    }\n",
       "\n",
       "    .dataframe tbody tr th {\n",
       "        vertical-align: top;\n",
       "    }\n",
       "\n",
       "    .dataframe thead th {\n",
       "        text-align: right;\n",
       "    }\n",
       "</style>\n",
       "<table border=\"1\" class=\"dataframe\">\n",
       "  <thead>\n",
       "    <tr style=\"text-align: right;\">\n",
       "      <th></th>\n",
       "      <th>video_id</th>\n",
       "      <th>trending_date</th>\n",
       "      <th>title</th>\n",
       "      <th>channel_title</th>\n",
       "      <th>category_id</th>\n",
       "      <th>publish_time</th>\n",
       "      <th>tags</th>\n",
       "      <th>views</th>\n",
       "      <th>likes</th>\n",
       "      <th>dislikes</th>\n",
       "      <th>comment_count</th>\n",
       "      <th>thumbnail_link</th>\n",
       "      <th>comments_disabled</th>\n",
       "      <th>ratings_disabled</th>\n",
       "      <th>video_error_or_removed</th>\n",
       "      <th>description</th>\n",
       "      <th>country</th>\n",
       "    </tr>\n",
       "  </thead>\n",
       "  <tbody>\n",
       "    <tr>\n",
       "      <td>1</td>\n",
       "      <td>n1WpP7iowLc</td>\n",
       "      <td>2017-11-14</td>\n",
       "      <td>Eminem - Walk On Water (Audio) ft. Beyoncé</td>\n",
       "      <td>EminemVEVO</td>\n",
       "      <td>10</td>\n",
       "      <td>2017-11-10</td>\n",
       "      <td>\"Eminem\"|\"Walk\"|\"On\"|\"Water\"|\"Aftermath/Shady/...</td>\n",
       "      <td>17158579.0</td>\n",
       "      <td>787425.0</td>\n",
       "      <td>43420.0</td>\n",
       "      <td>125882.0</td>\n",
       "      <td>https://i.ytimg.com/vi/n1WpP7iowLc/default.jpg</td>\n",
       "      <td>False</td>\n",
       "      <td>False</td>\n",
       "      <td>False</td>\n",
       "      <td>Eminem's new track Walk on Water ft. Beyoncé i...</td>\n",
       "      <td>Canada</td>\n",
       "    </tr>\n",
       "    <tr>\n",
       "      <td>230</td>\n",
       "      <td>n1WpP7iowLc</td>\n",
       "      <td>2017-11-15</td>\n",
       "      <td>Eminem - Walk On Water (Audio) ft. Beyoncé</td>\n",
       "      <td>EminemVEVO</td>\n",
       "      <td>10</td>\n",
       "      <td>2017-11-10</td>\n",
       "      <td>\"Eminem\"|\"Walk\"|\"On\"|\"Water\"|\"Aftermath/Shady/...</td>\n",
       "      <td>20539417.0</td>\n",
       "      <td>840642.0</td>\n",
       "      <td>47715.0</td>\n",
       "      <td>124236.0</td>\n",
       "      <td>https://i.ytimg.com/vi/n1WpP7iowLc/default.jpg</td>\n",
       "      <td>False</td>\n",
       "      <td>False</td>\n",
       "      <td>False</td>\n",
       "      <td>Eminem's new track Walk on Water ft. Beyoncé i...</td>\n",
       "      <td>Canada</td>\n",
       "    </tr>\n",
       "    <tr>\n",
       "      <td>520</td>\n",
       "      <td>n1WpP7iowLc</td>\n",
       "      <td>2017-11-16</td>\n",
       "      <td>Eminem - Walk On Water (Audio) ft. Beyoncé</td>\n",
       "      <td>EminemVEVO</td>\n",
       "      <td>10</td>\n",
       "      <td>2017-11-10</td>\n",
       "      <td>\"Eminem\"|\"Walk\"|\"On\"|\"Water\"|\"Aftermath/Shady/...</td>\n",
       "      <td>22702386.0</td>\n",
       "      <td>869304.0</td>\n",
       "      <td>50018.0</td>\n",
       "      <td>123235.0</td>\n",
       "      <td>https://i.ytimg.com/vi/n1WpP7iowLc/default.jpg</td>\n",
       "      <td>False</td>\n",
       "      <td>False</td>\n",
       "      <td>False</td>\n",
       "      <td>Eminem's new track Walk on Water ft. Beyoncé i...</td>\n",
       "      <td>Canada</td>\n",
       "    </tr>\n",
       "    <tr>\n",
       "      <td>864</td>\n",
       "      <td>n1WpP7iowLc</td>\n",
       "      <td>2017-11-17</td>\n",
       "      <td>Eminem - Walk On Water (Audio) ft. Beyoncé</td>\n",
       "      <td>EminemVEVO</td>\n",
       "      <td>10</td>\n",
       "      <td>2017-11-10</td>\n",
       "      <td>\"Eminem\"|\"Walk\"|\"On\"|\"Water\"|\"Aftermath/Shady/...</td>\n",
       "      <td>24578152.0</td>\n",
       "      <td>891283.0</td>\n",
       "      <td>51978.0</td>\n",
       "      <td>125444.0</td>\n",
       "      <td>https://i.ytimg.com/vi/n1WpP7iowLc/default.jpg</td>\n",
       "      <td>False</td>\n",
       "      <td>False</td>\n",
       "      <td>False</td>\n",
       "      <td>Eminem's new track Walk on Water ft. Beyoncé i...</td>\n",
       "      <td>Canada</td>\n",
       "    </tr>\n",
       "    <tr>\n",
       "      <td>45598</td>\n",
       "      <td>n1WpP7iowLc</td>\n",
       "      <td>2017-11-14</td>\n",
       "      <td>Eminem - Walk On Water (Audio) ft. Beyoncé</td>\n",
       "      <td>EminemVEVO</td>\n",
       "      <td>10</td>\n",
       "      <td>2017-11-10</td>\n",
       "      <td>\"Eminem\"|\"Walk\"|\"On\"|\"Water\"|\"Aftermath/Shady/...</td>\n",
       "      <td>17158579.0</td>\n",
       "      <td>787424.0</td>\n",
       "      <td>43420.0</td>\n",
       "      <td>125882.0</td>\n",
       "      <td>https://i.ytimg.com/vi/n1WpP7iowLc/default.jpg</td>\n",
       "      <td>False</td>\n",
       "      <td>False</td>\n",
       "      <td>False</td>\n",
       "      <td>Eminem's new track Walk on Water ft. Beyoncé i...</td>\n",
       "      <td>Germany</td>\n",
       "    </tr>\n",
       "    <tr>\n",
       "      <td>92590</td>\n",
       "      <td>n1WpP7iowLc</td>\n",
       "      <td>2017-11-14</td>\n",
       "      <td>Eminem - Walk On Water (Audio) ft. Beyoncé</td>\n",
       "      <td>EminemVEVO</td>\n",
       "      <td>10</td>\n",
       "      <td>2017-11-10</td>\n",
       "      <td>\"Eminem\"\"|\"\"Walk\"\"|\"\"On\"\"|\"\"Water\"\"|\"\"Aftermat...</td>\n",
       "      <td>17158579.0</td>\n",
       "      <td>787425.0</td>\n",
       "      <td>43420.0</td>\n",
       "      <td>125882.0</td>\n",
       "      <td>https://i.ytimg.com/vi/n1WpP7iowLc/default.jpg</td>\n",
       "      <td>False</td>\n",
       "      <td>False</td>\n",
       "      <td>False</td>\n",
       "      <td>Eminem's new track Walk on Water ft. Beyoncé i...</td>\n",
       "      <td>France</td>\n",
       "    </tr>\n",
       "  </tbody>\n",
       "</table>\n",
       "</div>"
      ],
      "text/plain": [
       "          video_id trending_date                                       title  \\\n",
       "1      n1WpP7iowLc    2017-11-14  Eminem - Walk On Water (Audio) ft. Beyoncé   \n",
       "230    n1WpP7iowLc    2017-11-15  Eminem - Walk On Water (Audio) ft. Beyoncé   \n",
       "520    n1WpP7iowLc    2017-11-16  Eminem - Walk On Water (Audio) ft. Beyoncé   \n",
       "864    n1WpP7iowLc    2017-11-17  Eminem - Walk On Water (Audio) ft. Beyoncé   \n",
       "45598  n1WpP7iowLc    2017-11-14  Eminem - Walk On Water (Audio) ft. Beyoncé   \n",
       "92590  n1WpP7iowLc    2017-11-14  Eminem - Walk On Water (Audio) ft. Beyoncé   \n",
       "\n",
       "      channel_title category_id publish_time  \\\n",
       "1        EminemVEVO          10   2017-11-10   \n",
       "230      EminemVEVO          10   2017-11-10   \n",
       "520      EminemVEVO          10   2017-11-10   \n",
       "864      EminemVEVO          10   2017-11-10   \n",
       "45598    EminemVEVO          10   2017-11-10   \n",
       "92590    EminemVEVO          10   2017-11-10   \n",
       "\n",
       "                                                    tags       views  \\\n",
       "1      \"Eminem\"|\"Walk\"|\"On\"|\"Water\"|\"Aftermath/Shady/...  17158579.0   \n",
       "230    \"Eminem\"|\"Walk\"|\"On\"|\"Water\"|\"Aftermath/Shady/...  20539417.0   \n",
       "520    \"Eminem\"|\"Walk\"|\"On\"|\"Water\"|\"Aftermath/Shady/...  22702386.0   \n",
       "864    \"Eminem\"|\"Walk\"|\"On\"|\"Water\"|\"Aftermath/Shady/...  24578152.0   \n",
       "45598  \"Eminem\"|\"Walk\"|\"On\"|\"Water\"|\"Aftermath/Shady/...  17158579.0   \n",
       "92590  \"Eminem\"\"|\"\"Walk\"\"|\"\"On\"\"|\"\"Water\"\"|\"\"Aftermat...  17158579.0   \n",
       "\n",
       "          likes  dislikes  comment_count  \\\n",
       "1      787425.0   43420.0       125882.0   \n",
       "230    840642.0   47715.0       124236.0   \n",
       "520    869304.0   50018.0       123235.0   \n",
       "864    891283.0   51978.0       125444.0   \n",
       "45598  787424.0   43420.0       125882.0   \n",
       "92590  787425.0   43420.0       125882.0   \n",
       "\n",
       "                                       thumbnail_link comments_disabled  \\\n",
       "1      https://i.ytimg.com/vi/n1WpP7iowLc/default.jpg             False   \n",
       "230    https://i.ytimg.com/vi/n1WpP7iowLc/default.jpg             False   \n",
       "520    https://i.ytimg.com/vi/n1WpP7iowLc/default.jpg             False   \n",
       "864    https://i.ytimg.com/vi/n1WpP7iowLc/default.jpg             False   \n",
       "45598  https://i.ytimg.com/vi/n1WpP7iowLc/default.jpg             False   \n",
       "92590  https://i.ytimg.com/vi/n1WpP7iowLc/default.jpg             False   \n",
       "\n",
       "      ratings_disabled video_error_or_removed  \\\n",
       "1                False                  False   \n",
       "230              False                  False   \n",
       "520              False                  False   \n",
       "864              False                  False   \n",
       "45598            False                  False   \n",
       "92590            False                  False   \n",
       "\n",
       "                                             description  country  \n",
       "1      Eminem's new track Walk on Water ft. Beyoncé i...   Canada  \n",
       "230    Eminem's new track Walk on Water ft. Beyoncé i...   Canada  \n",
       "520    Eminem's new track Walk on Water ft. Beyoncé i...   Canada  \n",
       "864    Eminem's new track Walk on Water ft. Beyoncé i...   Canada  \n",
       "45598  Eminem's new track Walk on Water ft. Beyoncé i...  Germany  \n",
       "92590  Eminem's new track Walk on Water ft. Beyoncé i...   France  "
      ]
     },
     "execution_count": 65,
     "metadata": {},
     "output_type": "execute_result"
    }
   ],
   "source": [
    "# When dropping the duplicate rows based on video_id we found that half of the dataset gets dropped.  So we now look at the \n",
    "# duplicate rows to find out more information about what is going on.  Looking at the duplicate rows you can see that the \n",
    "# same video can be trending for mulitple days and in different countries causing the same video to exist in multiple rows.\n",
    "# We decided the \"duplicates\" were not actually truely duplicate rows, the information provided by these multiple entries \n",
    "# is still useful.  We determined a truely duplicate row requires the same: \"video_id\", \"views\", \"likes\", \"dislikes\",\n",
    "# \"country\", and \"trending_date\" column values.\n",
    "pandasdf = pd.DataFrame(data=youtube_data_df.take(100000), columns=youtube_data_df.columns)\n",
    "\n",
    "pandas_df = pandasdf.loc[pandasdf['video_id'].duplicated()]\n",
    "\n",
    "# We realized that a number of the duplicates have a \"\\n\" for the video id, we decided to filter those rows out since\n",
    "# they contain no useful information.  We remove these rows later on when dropping NA values from the dataset.\n",
    "pandas_df = pandas_df[pandas_df['video_id'] != \"\\\\n\"]\n",
    "\n",
    "# The video id value was manually selected by viewing the resulting dataframe from the previous line. You can see\n",
    "# that this video was trending for multiple days and in mulitple countries, hence why it has mulitple rows in the \n",
    "# the dataset.\n",
    "pandasdf[pandasdf['video_id'] == \"n1WpP7iowLc\"]"
   ]
  },
  {
   "cell_type": "code",
   "execution_count": 66,
   "metadata": {
    "scrolled": false
   },
   "outputs": [
    {
     "name": "stdout",
     "output_type": "stream",
     "text": [
      "Number of duplicates: 48595\n",
      "Remaining number of rows: 368284\n"
     ]
    }
   ],
   "source": [
    "# The previous section determined that video_id was not sufficient in determining a truly duplicate row.  The following\n",
    "# are a combination of the columns we think determine a truly duplicate row.  Meaning, if two rows have the same value\n",
    "# in all of the below columns, then those two rows are indeed duplicates.\n",
    "compare_duplicate_cols = [\"video_id\", \"views\", \"likes\", \"dislikes\", \"country\", \"trending_date\"]\n",
    "row_count_with_dup = youtube_data_df.count()\n",
    "\n",
    "# Drop duplicate rows\n",
    "youtube_data_df = youtube_data_df.dropDuplicates(compare_duplicate_cols)\n",
    "\n",
    "# View duplicate row count information\n",
    "num_duplicates = row_count_with_dup - youtube_data_df.count()\n",
    "print(\"Number of duplicates: \" + str(num_duplicates))\n",
    "print(\"Remaining number of rows: \" + str(youtube_data_df.count()))"
   ]
  },
  {
   "cell_type": "markdown",
   "metadata": {},
   "source": [
    "#### Handle NA's and Nulls"
   ]
  },
  {
   "cell_type": "code",
   "execution_count": 67,
   "metadata": {},
   "outputs": [
    {
     "name": "stdout",
     "output_type": "stream",
     "text": [
      "Number of null,nans, and na's: 4923\n",
      "Remaining number of rows: 363361\n"
     ]
    }
   ],
   "source": [
    "# The following are a list of the columns that we determined should not contain a null or NA value.  We could have\n",
    "# done this when specifying the schema when we were importing the data, but we felt it necessary to learn more information\n",
    "# about columns that contain nulls and NAs.  After playing around with the data we found that many of the values in the\n",
    "# description column were NA.  We decided that this was okay because some videos might not have a description, thus\n",
    "# this is why description is not included in the below list\n",
    "no_nan_cols = [\"video_id\", \"trending_date\", \"title\", \n",
    "        \"channel_title\", \"category_id\",  \n",
    "        \"tags\", \"views\", \"likes\", \"dislikes\", \"comment_count\", \n",
    "        \"thumbnail_link\", \"comments_disabled\", \"ratings_disabled\", \n",
    "        \"video_error_or_removed\", \"country\"]\n",
    "\n",
    "row_count_with_nans = youtube_data_df.count()\n",
    "\n",
    "# Drop nans from these columns\n",
    "youtube_data_df = youtube_data_df.na.drop(subset=no_nan_cols) \n",
    "\n",
    "# View duplicate row count information\n",
    "num_nans = row_count_with_nans - youtube_data_df.count()\n",
    "print(\"Number of null,nans, and na's: \" + str(num_nans))\n",
    "print(\"Remaining number of rows: \" + str(youtube_data_df.count()))"
   ]
  },
  {
   "cell_type": "code",
   "execution_count": 72,
   "metadata": {},
   "outputs": [
    {
     "data": {
      "text/plain": [
       "0"
      ]
     },
     "execution_count": 72,
     "metadata": {},
     "output_type": "execute_result"
    }
   ],
   "source": [
    "# We decided that it was advantageous to replace all of the nulls in the description column with empty strings, this\n",
    "# way we do not need to check for nulls later on when working with this column in the dataset\n",
    "youtube_data_df = youtube_data_df.fillna(\"\", subset=\"description\")\n",
    "\n",
    "# Check that the description column contains no nulls\n",
    "youtube_data_df.where(youtube_data_df.description.isNull()).count()"
   ]
  },
  {
   "cell_type": "code",
   "execution_count": null,
   "metadata": {},
   "outputs": [],
   "source": []
  }
 ],
 "metadata": {
  "kernelspec": {
   "display_name": "Python 3",
   "language": "python",
   "name": "python3"
  },
  "language_info": {
   "codemirror_mode": {
    "name": "ipython",
    "version": 3
   },
   "file_extension": ".py",
   "mimetype": "text/x-python",
   "name": "python",
   "nbconvert_exporter": "python",
   "pygments_lexer": "ipython3",
   "version": "3.7.4"
  }
 },
 "nbformat": 4,
 "nbformat_minor": 4
}
