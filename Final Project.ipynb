{
 "cells": [
  {
   "cell_type": "markdown",
   "metadata": {},
   "source": [
    "# Final Project\n",
    "CS696 Big Data\n",
    "\n",
    "Professor Whitney\n",
    "\n",
    "Team:\n",
    "\n",
    "Kristi Werry - 823386935\n",
    "\n",
    "William Ritchie - 815829203"
   ]
  },
  {
   "cell_type": "markdown",
   "metadata": {},
   "source": [
    "## Description"
   ]
  },
  {
   "cell_type": "markdown",
   "metadata": {},
   "source": [
    "## Imports"
   ]
  },
  {
   "cell_type": "code",
   "execution_count": 83,
   "metadata": {},
   "outputs": [],
   "source": [
    "import numpy as np\n",
    "import pandas as pd\n",
    "from pyspark.sql import Row\n",
    "from pyspark.sql import DataFrame\n",
    "from pyspark.sql import SparkSession\n",
    "from pyspark.sql.types import IntegerType\n",
    "from pyspark.sql.types import BooleanType\n",
    "from pyspark.sql.functions import to_timestamp, max\n",
    "from pyspark.sql.functions import isnan, when, count, col\n",
    "from pyspark.sql.functions import lit, avg, format_number\n",
    "import sys\n",
    "from pyspark.sql import SparkSession"
   ]
  },
  {
   "cell_type": "markdown",
   "metadata": {},
   "source": [
    "## Functions"
   ]
  },
  {
   "cell_type": "code",
   "execution_count": 50,
   "metadata": {},
   "outputs": [],
   "source": [
    "#takes in the dataset and a country\n",
    "#converts the columns to the proper types and add the country column\n",
    "def castTypes_addCountry(data, country, columns):\n",
    "    data_processed =  data.withColumn(\"views\", data[\"views\"]\n",
    "                      .cast(IntegerType())).withColumn(\"likes\", data[\"likes\"]\n",
    "                      .cast(IntegerType())).withColumn(\"dislikes\", data[\"dislikes\"]\n",
    "                      .cast(IntegerType())).withColumn(\"comment_count\", data[\"comment_count\"]\n",
    "                      .cast(IntegerType())).withColumn(\"comments_disabled\", data[\"comments_disabled\"]\n",
    "                      .cast(BooleanType())).withColumn(\"ratings_disabled\", data[\"ratings_disabled\"]\n",
    "                      .cast(BooleanType())).withColumn(\"video_error_or_removed\", data[\"video_error_or_removed\"]\n",
    "                      .cast(BooleanType())).withColumn(\"trending_date\", to_timestamp(data[\"trending_date\"], \n",
    "                      \"yy.dd.MM\")).withColumn(\"publish_time\", to_timestamp(data[\"publish_time\"], \n",
    "                      \"yyyy-MM-dd\")).withColumn(\"country\", lit(country)).select(columns)\n",
    "    return data_processed"
   ]
  },
  {
   "cell_type": "markdown",
   "metadata": {},
   "source": [
    "## Importing Datasets"
   ]
  },
  {
   "cell_type": "code",
   "execution_count": 51,
   "metadata": {},
   "outputs": [],
   "source": [
    "sqlContext = SparkSession.builder.appName(\"FinalProjectYoutube\").getOrCreate();\n",
    "root_dir = \"youtube-new/\";\n",
    "#read in datasets\n",
    "ca_data = sqlContext.read.format(\"csv\").option(\"header\", \"true\").option(\"inferSchema\", \"true\").load(root_dir + \"CAvideos.csv\");\n",
    "de_data = sqlContext.read.format(\"csv\").option(\"header\", \"true\").option(\"inferSchema\", \"true\").load(root_dir + \"DEvideos.csv\");\n",
    "fr_data = sqlContext.read.format(\"csv\").option(\"header\", \"true\").option(\"inferSchema\", \"true\").load(root_dir + \"FRvideos.csv\");\n",
    "gb_data = sqlContext.read.format(\"csv\").option(\"header\", \"true\").option(\"inferSchema\", \"true\").load(root_dir + \"GBvideos.csv\");\n",
    "in_data = sqlContext.read.format(\"csv\").option(\"header\", \"true\").option(\"inferSchema\", \"true\").load(root_dir + \"INvideos.csv\");\n",
    "jp_data = sqlContext.read.format(\"csv\").option(\"header\", \"true\").option(\"inferSchema\", \"true\").load(root_dir + \"JPvideos.csv\");\n",
    "kr_data = sqlContext.read.format(\"csv\").option(\"header\", \"true\").option(\"inferSchema\", \"true\").load(root_dir + \"KRvideos.csv\");\n",
    "mx_data = sqlContext.read.format(\"csv\").option(\"header\", \"true\").option(\"inferSchema\", \"true\").load(root_dir + \"MXvideos.csv\");\n",
    "ru_data = sqlContext.read.format(\"csv\").option(\"header\", \"true\").option(\"inferSchema\", \"true\").load(root_dir + \"RUvideos.csv\");\n",
    "us_data = sqlContext.read.format(\"csv\").option(\"header\", \"true\").option(\"inferSchema\", \"true\").load(root_dir + \"USvideos.csv\");"
   ]
  },
  {
   "cell_type": "markdown",
   "metadata": {},
   "source": [
    "## Dataset Cleaning "
   ]
  },
  {
   "cell_type": "markdown",
   "metadata": {},
   "source": [
    "#### Enforce Datatypes"
   ]
  },
  {
   "cell_type": "code",
   "execution_count": 52,
   "metadata": {},
   "outputs": [],
   "source": [
    "columns = [\"video_id\", \"trending_date\", \"title\", \"channel_title\", \"category_id\", \"publish_time\", \n",
    "           \"tags\", \"views\", \"likes\", \"dislikes\", \"comment_count\", \"thumbnail_link\", \"comments_disabled\", \n",
    "           \"ratings_disabled\", \"video_error_or_removed\", \"description\", \"country\"]\n"
   ]
  },
  {
   "cell_type": "code",
   "execution_count": 53,
   "metadata": {},
   "outputs": [],
   "source": [
    "ca_data = castTypes_addCountry(ca_data, \"Canada\", columns)\n",
    "de_data = castTypes_addCountry(de_data, \"Germany\", columns)\n",
    "fr_data = castTypes_addCountry(fr_data, \"France\", columns)\n",
    "gb_data = castTypes_addCountry(gb_data, \"England\", columns)\n",
    "in_data = castTypes_addCountry(in_data, \"India\", columns)\n",
    "jp_data = castTypes_addCountry(jp_data, \"Japan\", columns)\n",
    "kr_data = castTypes_addCountry(kr_data, \"South Korea\", columns)\n",
    "mx_data = castTypes_addCountry(mx_data, \"Mexico\", columns)\n",
    "ru_data = castTypes_addCountry(ru_data, \"Russia\", columns)\n",
    "us_data = castTypes_addCountry(us_data, \"US\", columns)"
   ]
  },
  {
   "cell_type": "markdown",
   "metadata": {},
   "source": [
    "#### Handle Duplicates"
   ]
  },
  {
   "cell_type": "code",
   "execution_count": 54,
   "metadata": {},
   "outputs": [
    {
     "data": {
      "text/html": [
       "<div>\n",
       "<style scoped>\n",
       "    .dataframe tbody tr th:only-of-type {\n",
       "        vertical-align: middle;\n",
       "    }\n",
       "\n",
       "    .dataframe tbody tr th {\n",
       "        vertical-align: top;\n",
       "    }\n",
       "\n",
       "    .dataframe thead th {\n",
       "        text-align: right;\n",
       "    }\n",
       "</style>\n",
       "<table border=\"1\" class=\"dataframe\">\n",
       "  <thead>\n",
       "    <tr style=\"text-align: right;\">\n",
       "      <th></th>\n",
       "      <th>video_id</th>\n",
       "      <th>trending_date</th>\n",
       "      <th>title</th>\n",
       "      <th>channel_title</th>\n",
       "      <th>category_id</th>\n",
       "      <th>publish_time</th>\n",
       "      <th>tags</th>\n",
       "      <th>views</th>\n",
       "      <th>likes</th>\n",
       "      <th>dislikes</th>\n",
       "      <th>comment_count</th>\n",
       "      <th>thumbnail_link</th>\n",
       "      <th>comments_disabled</th>\n",
       "      <th>ratings_disabled</th>\n",
       "      <th>video_error_or_removed</th>\n",
       "      <th>description</th>\n",
       "      <th>country</th>\n",
       "    </tr>\n",
       "  </thead>\n",
       "  <tbody>\n",
       "    <tr>\n",
       "      <th>124</th>\n",
       "      <td>\\n</td>\n",
       "      <td>NaT</td>\n",
       "      <td>None</td>\n",
       "      <td>None</td>\n",
       "      <td>None</td>\n",
       "      <td>NaT</td>\n",
       "      <td>None</td>\n",
       "      <td>NaN</td>\n",
       "      <td>NaN</td>\n",
       "      <td>NaN</td>\n",
       "      <td>NaN</td>\n",
       "      <td>None</td>\n",
       "      <td>None</td>\n",
       "      <td>None</td>\n",
       "      <td>None</td>\n",
       "      <td>None</td>\n",
       "      <td>US</td>\n",
       "    </tr>\n",
       "    <tr>\n",
       "      <th>217</th>\n",
       "      <td>\\n</td>\n",
       "      <td>NaT</td>\n",
       "      <td>None</td>\n",
       "      <td>None</td>\n",
       "      <td>None</td>\n",
       "      <td>NaT</td>\n",
       "      <td>None</td>\n",
       "      <td>NaN</td>\n",
       "      <td>NaN</td>\n",
       "      <td>NaN</td>\n",
       "      <td>NaN</td>\n",
       "      <td>None</td>\n",
       "      <td>None</td>\n",
       "      <td>None</td>\n",
       "      <td>None</td>\n",
       "      <td>None</td>\n",
       "      <td>US</td>\n",
       "    </tr>\n",
       "    <tr>\n",
       "      <th>226</th>\n",
       "      <td>\\n</td>\n",
       "      <td>NaT</td>\n",
       "      <td>None</td>\n",
       "      <td>None</td>\n",
       "      <td>None</td>\n",
       "      <td>NaT</td>\n",
       "      <td>None</td>\n",
       "      <td>NaN</td>\n",
       "      <td>NaN</td>\n",
       "      <td>NaN</td>\n",
       "      <td>NaN</td>\n",
       "      <td>None</td>\n",
       "      <td>None</td>\n",
       "      <td>None</td>\n",
       "      <td>None</td>\n",
       "      <td>None</td>\n",
       "      <td>US</td>\n",
       "    </tr>\n",
       "    <tr>\n",
       "      <th>228</th>\n",
       "      <td>\\n</td>\n",
       "      <td>NaT</td>\n",
       "      <td>None</td>\n",
       "      <td>None</td>\n",
       "      <td>None</td>\n",
       "      <td>NaT</td>\n",
       "      <td>None</td>\n",
       "      <td>NaN</td>\n",
       "      <td>NaN</td>\n",
       "      <td>NaN</td>\n",
       "      <td>NaN</td>\n",
       "      <td>None</td>\n",
       "      <td>None</td>\n",
       "      <td>None</td>\n",
       "      <td>None</td>\n",
       "      <td>None</td>\n",
       "      <td>US</td>\n",
       "    </tr>\n",
       "    <tr>\n",
       "      <th>242</th>\n",
       "      <td>kgaO45SyaO4</td>\n",
       "      <td>2017-11-15</td>\n",
       "      <td>The New SpotMini</td>\n",
       "      <td>BostonDynamics</td>\n",
       "      <td>28</td>\n",
       "      <td>2017-11-13</td>\n",
       "      <td>\"Robots\"|\"Boston Dynamics\"|\"SpotMini\"|\"Legged ...</td>\n",
       "      <td>3701763.0</td>\n",
       "      <td>56561.0</td>\n",
       "      <td>2495.0</td>\n",
       "      <td>11608.0</td>\n",
       "      <td>https://i.ytimg.com/vi/kgaO45SyaO4/default.jpg</td>\n",
       "      <td>False</td>\n",
       "      <td>False</td>\n",
       "      <td>False</td>\n",
       "      <td>For more information . . . stay tuned.</td>\n",
       "      <td>US</td>\n",
       "    </tr>\n",
       "    <tr>\n",
       "      <th>...</th>\n",
       "      <td>...</td>\n",
       "      <td>...</td>\n",
       "      <td>...</td>\n",
       "      <td>...</td>\n",
       "      <td>...</td>\n",
       "      <td>...</td>\n",
       "      <td>...</td>\n",
       "      <td>...</td>\n",
       "      <td>...</td>\n",
       "      <td>...</td>\n",
       "      <td>...</td>\n",
       "      <td>...</td>\n",
       "      <td>...</td>\n",
       "      <td>...</td>\n",
       "      <td>...</td>\n",
       "      <td>...</td>\n",
       "      <td>...</td>\n",
       "    </tr>\n",
       "    <tr>\n",
       "      <th>86660</th>\n",
       "      <td>iNHecA3PJCo</td>\n",
       "      <td>2018-06-14</td>\n",
       "      <td>फेकू आशिक़ - राजस्थान की सबसे शानदार कॉमेडी | ...</td>\n",
       "      <td>RDC Rajasthani</td>\n",
       "      <td>23</td>\n",
       "      <td>2018-06-13</td>\n",
       "      <td>\"twinkle vaishnav comedy|\"\"twinkle vaishnav\"\"|...</td>\n",
       "      <td>214378.0</td>\n",
       "      <td>3291.0</td>\n",
       "      <td>404.0</td>\n",
       "      <td>196.0</td>\n",
       "      <td>https://i.ytimg.com/vi/iNHecA3PJCo/default.jpg</td>\n",
       "      <td>False</td>\n",
       "      <td>False</td>\n",
       "      <td>False</td>\n",
       "      <td>PRG Music &amp; RDC Rajasthani presents फेकू आशिक़...</td>\n",
       "      <td>India</td>\n",
       "    </tr>\n",
       "    <tr>\n",
       "      <th>86661</th>\n",
       "      <td>dpPmPbhcslM</td>\n",
       "      <td>2018-06-14</td>\n",
       "      <td>Seetha | Flowers | Ep# 364</td>\n",
       "      <td>Flowers TV</td>\n",
       "      <td>24</td>\n",
       "      <td>2018-06-13</td>\n",
       "      <td>\"flowers serials|\"\"actress\"\"|\"\"malayalam seria...</td>\n",
       "      <td>406828.0</td>\n",
       "      <td>1726.0</td>\n",
       "      <td>478.0</td>\n",
       "      <td>1428.0</td>\n",
       "      <td>https://i.ytimg.com/vi/dpPmPbhcslM/default.jpg</td>\n",
       "      <td>False</td>\n",
       "      <td>False</td>\n",
       "      <td>False</td>\n",
       "      <td>Flowers - A R Rahman Show,Book your Tickets He...</td>\n",
       "      <td>India</td>\n",
       "    </tr>\n",
       "    <tr>\n",
       "      <th>86662</th>\n",
       "      <td>mV6aztP58f8</td>\n",
       "      <td>2018-06-14</td>\n",
       "      <td>Bhramanam I Episode 87 - 12 June 2018 I Mazhav...</td>\n",
       "      <td>Mazhavil Manorama</td>\n",
       "      <td>24</td>\n",
       "      <td>2018-06-13</td>\n",
       "      <td>\"mazhavil manorama|\"\"bhramanam full episode\"\"|...</td>\n",
       "      <td>386319.0</td>\n",
       "      <td>1216.0</td>\n",
       "      <td>453.0</td>\n",
       "      <td>697.0</td>\n",
       "      <td>https://i.ytimg.com/vi/mV6aztP58f8/default.jpg</td>\n",
       "      <td>False</td>\n",
       "      <td>False</td>\n",
       "      <td>False</td>\n",
       "      <td>Subscribe to Mazhavil Manorama now for your da...</td>\n",
       "      <td>India</td>\n",
       "    </tr>\n",
       "    <tr>\n",
       "      <th>86663</th>\n",
       "      <td>qxqDNP1bDEw</td>\n",
       "      <td>2018-06-14</td>\n",
       "      <td>Nua Bohu | Full Ep 285 | 13th June 2018 | Odia...</td>\n",
       "      <td>Tarang TV</td>\n",
       "      <td>24</td>\n",
       "      <td>2018-06-13</td>\n",
       "      <td>\"tarang|\"\"tarang tv\"\"|\"\"tarang tv online\"\"|\"\"t...</td>\n",
       "      <td>130263.0</td>\n",
       "      <td>698.0</td>\n",
       "      <td>115.0</td>\n",
       "      <td>65.0</td>\n",
       "      <td>https://i.ytimg.com/vi/qxqDNP1bDEw/default.jpg</td>\n",
       "      <td>False</td>\n",
       "      <td>False</td>\n",
       "      <td>False</td>\n",
       "      <td>Nuabohu : Story of a rustic village girl who w...</td>\n",
       "      <td>India</td>\n",
       "    </tr>\n",
       "    <tr>\n",
       "      <th>86664</th>\n",
       "      <td>wERgpPK44w0</td>\n",
       "      <td>2018-06-14</td>\n",
       "      <td>Ee Nagaraniki Emaindi Trailer | Tharun Bhascke...</td>\n",
       "      <td>Suresh Productions</td>\n",
       "      <td>24</td>\n",
       "      <td>2018-06-10</td>\n",
       "      <td>\"Ee Nagaraniki Emaindi|\"\"Ee Nagaraniki Emaindi...</td>\n",
       "      <td>1278249.0</td>\n",
       "      <td>22466.0</td>\n",
       "      <td>1609.0</td>\n",
       "      <td>1205.0</td>\n",
       "      <td>https://i.ytimg.com/vi/wERgpPK44w0/default.jpg</td>\n",
       "      <td>False</td>\n",
       "      <td>False</td>\n",
       "      <td>False</td>\n",
       "      <td>Check out Ee Nagaraniki Emaindi Trailer #EeNag...</td>\n",
       "      <td>India</td>\n",
       "    </tr>\n",
       "  </tbody>\n",
       "</table>\n",
       "<p>63531 rows × 17 columns</p>\n",
       "</div>"
      ],
      "text/plain": [
       "          video_id trending_date  \\\n",
       "124             \\n           NaT   \n",
       "217             \\n           NaT   \n",
       "226             \\n           NaT   \n",
       "228             \\n           NaT   \n",
       "242    kgaO45SyaO4    2017-11-15   \n",
       "...            ...           ...   \n",
       "86660  iNHecA3PJCo    2018-06-14   \n",
       "86661  dpPmPbhcslM    2018-06-14   \n",
       "86662  mV6aztP58f8    2018-06-14   \n",
       "86663  qxqDNP1bDEw    2018-06-14   \n",
       "86664  wERgpPK44w0    2018-06-14   \n",
       "\n",
       "                                                   title       channel_title  \\\n",
       "124                                                 None                None   \n",
       "217                                                 None                None   \n",
       "226                                                 None                None   \n",
       "228                                                 None                None   \n",
       "242                                     The New SpotMini      BostonDynamics   \n",
       "...                                                  ...                 ...   \n",
       "86660  फेकू आशिक़ - राजस्थान की सबसे शानदार कॉमेडी | ...      RDC Rajasthani   \n",
       "86661                         Seetha | Flowers | Ep# 364          Flowers TV   \n",
       "86662  Bhramanam I Episode 87 - 12 June 2018 I Mazhav...   Mazhavil Manorama   \n",
       "86663  Nua Bohu | Full Ep 285 | 13th June 2018 | Odia...           Tarang TV   \n",
       "86664  Ee Nagaraniki Emaindi Trailer | Tharun Bhascke...  Suresh Productions   \n",
       "\n",
       "      category_id publish_time  \\\n",
       "124          None          NaT   \n",
       "217          None          NaT   \n",
       "226          None          NaT   \n",
       "228          None          NaT   \n",
       "242            28   2017-11-13   \n",
       "...           ...          ...   \n",
       "86660          23   2018-06-13   \n",
       "86661          24   2018-06-13   \n",
       "86662          24   2018-06-13   \n",
       "86663          24   2018-06-13   \n",
       "86664          24   2018-06-10   \n",
       "\n",
       "                                                    tags      views    likes  \\\n",
       "124                                                 None        NaN      NaN   \n",
       "217                                                 None        NaN      NaN   \n",
       "226                                                 None        NaN      NaN   \n",
       "228                                                 None        NaN      NaN   \n",
       "242    \"Robots\"|\"Boston Dynamics\"|\"SpotMini\"|\"Legged ...  3701763.0  56561.0   \n",
       "...                                                  ...        ...      ...   \n",
       "86660  \"twinkle vaishnav comedy|\"\"twinkle vaishnav\"\"|...   214378.0   3291.0   \n",
       "86661  \"flowers serials|\"\"actress\"\"|\"\"malayalam seria...   406828.0   1726.0   \n",
       "86662  \"mazhavil manorama|\"\"bhramanam full episode\"\"|...   386319.0   1216.0   \n",
       "86663  \"tarang|\"\"tarang tv\"\"|\"\"tarang tv online\"\"|\"\"t...   130263.0    698.0   \n",
       "86664  \"Ee Nagaraniki Emaindi|\"\"Ee Nagaraniki Emaindi...  1278249.0  22466.0   \n",
       "\n",
       "       dislikes  comment_count  \\\n",
       "124         NaN            NaN   \n",
       "217         NaN            NaN   \n",
       "226         NaN            NaN   \n",
       "228         NaN            NaN   \n",
       "242      2495.0        11608.0   \n",
       "...         ...            ...   \n",
       "86660     404.0          196.0   \n",
       "86661     478.0         1428.0   \n",
       "86662     453.0          697.0   \n",
       "86663     115.0           65.0   \n",
       "86664    1609.0         1205.0   \n",
       "\n",
       "                                       thumbnail_link comments_disabled  \\\n",
       "124                                              None              None   \n",
       "217                                              None              None   \n",
       "226                                              None              None   \n",
       "228                                              None              None   \n",
       "242    https://i.ytimg.com/vi/kgaO45SyaO4/default.jpg             False   \n",
       "...                                               ...               ...   \n",
       "86660  https://i.ytimg.com/vi/iNHecA3PJCo/default.jpg             False   \n",
       "86661  https://i.ytimg.com/vi/dpPmPbhcslM/default.jpg             False   \n",
       "86662  https://i.ytimg.com/vi/mV6aztP58f8/default.jpg             False   \n",
       "86663  https://i.ytimg.com/vi/qxqDNP1bDEw/default.jpg             False   \n",
       "86664  https://i.ytimg.com/vi/wERgpPK44w0/default.jpg             False   \n",
       "\n",
       "      ratings_disabled video_error_or_removed  \\\n",
       "124               None                   None   \n",
       "217               None                   None   \n",
       "226               None                   None   \n",
       "228               None                   None   \n",
       "242              False                  False   \n",
       "...                ...                    ...   \n",
       "86660            False                  False   \n",
       "86661            False                  False   \n",
       "86662            False                  False   \n",
       "86663            False                  False   \n",
       "86664            False                  False   \n",
       "\n",
       "                                             description country  \n",
       "124                                                 None      US  \n",
       "217                                                 None      US  \n",
       "226                                                 None      US  \n",
       "228                                                 None      US  \n",
       "242               For more information . . . stay tuned.      US  \n",
       "...                                                  ...     ...  \n",
       "86660  PRG Music & RDC Rajasthani presents फेकू आशिक़...   India  \n",
       "86661  Flowers - A R Rahman Show,Book your Tickets He...   India  \n",
       "86662  Subscribe to Mazhavil Manorama now for your da...   India  \n",
       "86663  Nuabohu : Story of a rustic village girl who w...   India  \n",
       "86664  Check out Ee Nagaraniki Emaindi Trailer #EeNag...   India  \n",
       "\n",
       "[63531 rows x 17 columns]"
      ]
     },
     "execution_count": 54,
     "metadata": {},
     "output_type": "execute_result"
    }
   ],
   "source": [
    "# When dropping the duplicate rows based on video_id we found that half of the dataset gets dropped.  So we now look at the \n",
    "# duplicate rows to find out more information about what is going on.  Looking at the duplicate rows you can see that the \n",
    "# same video can be trending for mulitple days and in different countries causing the same video to exist in multiple rows.\n",
    "# We decided the \"duplicates\" were not actually truely duplicate rows, the information provided by these multiple entries \n",
    "# is still useful.  We determined a truely duplicate row requires the same: \"video_id\", \"views\", \"likes\", \"dislikes\",\n",
    "# \"country\", and \"trending_date\" column values.\n",
    "two_data = us_data.union(in_data)\n",
    "\n",
    "pandasdf = two_data.toPandas()\n",
    "\n",
    "pandas_df = pandasdf.loc[pandasdf['video_id'].duplicated()]\n",
    "pandas_df# = pandas_df[pandas_df['video_id'] != \"\\\\n\"]\n",
    "#pandasdf[pandasdf['video_id'] == \"d380meD0W0M\"]"
   ]
  },
  {
   "cell_type": "code",
   "execution_count": 55,
   "metadata": {
    "scrolled": false
   },
   "outputs": [
    {
     "data": {
      "text/plain": [
       "363361"
      ]
     },
     "execution_count": 55,
     "metadata": {},
     "output_type": "execute_result"
    }
   ],
   "source": [
    "compare_duplicate_cols = [\"video_id\", \"views\", \"likes\", \"dislikes\", \"country\", \"trending_date\"]\n",
    "no_nan_cols = [\"video_id\", \"trending_date\", \"title\", \n",
    "        \"channel_title\", \"category_id\",  \n",
    "        \"tags\", \"views\", \"likes\", \"dislikes\", \"comment_count\", \n",
    "        \"thumbnail_link\", \"comments_disabled\", \"ratings_disabled\", \n",
    "        \"video_error_or_removed\", \"country\"]\n",
    "all_data = us_data.union(ca_data).union(de_data).union(fr_data).union(gb_data).union(in_data)\n",
    "all_data = all_data.union(jp_data).union(kr_data).union(mx_data).union(ru_data).dropDuplicates(compare_duplicate_cols)\n",
    "all_data.createOrReplaceTempView(\"all_data\")\n",
    "all_data = all_data.na.drop(subset=no_nan_cols) #drop nans from these columns\n",
    "all_data.count() #with duplicates, count is 416869\n",
    "#369492 with nans"
   ]
  },
  {
   "cell_type": "markdown",
   "metadata": {},
   "source": [
    "#### Handle NA's and Nulls"
   ]
  },
  {
   "cell_type": "code",
   "execution_count": 133,
   "metadata": {},
   "outputs": [
    {
     "data": {
      "text/plain": [
       "DataFrame[video_id: string, trending_date: timestamp, title: string, channel_title: string, category_id: string, publish_time: timestamp, tags: string, views: int, likes: int, dislikes: int, comment_count: int, thumbnail_link: string, comments_disabled: boolean, ratings_disabled: boolean, video_error_or_removed: boolean, description: string, country: string]"
      ]
     },
     "execution_count": 133,
     "metadata": {},
     "output_type": "execute_result"
    }
   ],
   "source": [
    "all_data.fillna(\"\", subset=\"description\")"
   ]
  },
  {
   "cell_type": "markdown",
   "metadata": {},
   "source": [
    "## Dropping duplicates but keeping max views"
   ]
  },
  {
   "cell_type": "code",
   "execution_count": 134,
   "metadata": {},
   "outputs": [],
   "source": [
    "#test ith us_Data to only get hishest number views of duplicate\n",
    "#test_data = us_data.na.drop(subset=no_nan_cols).dropDuplicates(compare_duplicate_cols)\n",
    "#new_data = test_data.groupBy(['video_id', 'country']).agg(max('views'))#.limit(10).toPandas().head()\n",
    "nodup_data = all_data.orderBy(col(\"views\").desc()).dropDuplicates([\"video_id\", \"country\"])"
   ]
  },
  {
   "cell_type": "markdown",
   "metadata": {},
   "source": [
    "### Video Averages "
   ]
  },
  {
   "cell_type": "code",
   "execution_count": 104,
   "metadata": {},
   "outputs": [],
   "source": [
    "# takes in a dataframe, a grouping, and a column name and returns \n",
    "# the average of that column based on the group\n",
    "def average_by_group(df, group, column):\n",
    "    return df.groupBy(group).agg(format_number(avg(col(column)), 3))"
   ]
  },
  {
   "cell_type": "code",
   "execution_count": 135,
   "metadata": {},
   "outputs": [
    {
     "name": "stdout",
     "output_type": "stream",
     "text": [
      "+-----------+----------------------------+\n",
      "|    country|format_number(avg(views), 3)|\n",
      "+-----------+----------------------------+\n",
      "|     Russia|                 205,828.421|\n",
      "|    Germany|                 481,004.773|\n",
      "|     France|                 345,853.755|\n",
      "|      India|                 685,386.339|\n",
      "|         US|               1,963,852.208|\n",
      "|South Korea|                 374,157.771|\n",
      "|     Mexico|                 278,982.697|\n",
      "|     Canada|                 835,997.965|\n",
      "|      Japan|                 225,622.915|\n",
      "|    England|               4,814,560.163|\n",
      "+-----------+----------------------------+\n",
      "\n"
     ]
    }
   ],
   "source": [
    "#Out of the trending videos, average number of views\n",
    "#change to not duplicate data instead of all_data\n",
    "average_by_group(nodup_data, \"country\", \"views\").show()"
   ]
  },
  {
   "cell_type": "code",
   "execution_count": 136,
   "metadata": {},
   "outputs": [
    {
     "name": "stdout",
     "output_type": "stream",
     "text": [
      "+-----------+----------------------------+\n",
      "|    country|format_number(avg(likes), 3)|\n",
      "+-----------+----------------------------+\n",
      "|     Russia|                   9,806.934|\n",
      "|    Germany|                  15,579.592|\n",
      "|     France|                  12,076.316|\n",
      "|      India|                  14,486.622|\n",
      "|         US|                  55,631.299|\n",
      "|South Korea|                   9,500.477|\n",
      "|     Mexico|                  12,260.141|\n",
      "|     Canada|                  25,835.846|\n",
      "|      Japan|                   6,784.367|\n",
      "|    England|                  99,868.233|\n",
      "+-----------+----------------------------+\n",
      "\n"
     ]
    }
   ],
   "source": [
    "average_by_group(nodup_data, \"country\", \"likes\").show()"
   ]
  },
  {
   "cell_type": "code",
   "execution_count": 137,
   "metadata": {},
   "outputs": [
    {
     "name": "stdout",
     "output_type": "stream",
     "text": [
      "+-----------+-------------------------------+\n",
      "|    country|format_number(avg(dislikes), 3)|\n",
      "+-----------+-------------------------------+\n",
      "|     Russia|                      1,168.791|\n",
      "|    Germany|                      1,015.300|\n",
      "|     France|                        588.803|\n",
      "|      India|                        958.973|\n",
      "|         US|                      3,067.872|\n",
      "|South Korea|                        426.149|\n",
      "|     Mexico|                        547.594|\n",
      "|     Canada|                      1,278.886|\n",
      "|      Japan|                        294.974|\n",
      "|    England|                      5,909.845|\n",
      "+-----------+-------------------------------+\n",
      "\n"
     ]
    }
   ],
   "source": [
    "average_by_group(nodup_data, \"country\", \"dislikes\").show()"
   ]
  },
  {
   "cell_type": "code",
   "execution_count": 138,
   "metadata": {
    "scrolled": true
   },
   "outputs": [
    {
     "name": "stdout",
     "output_type": "stream",
     "text": [
      "+-----------+------------------------------------+\n",
      "|    country|format_number(avg(comment_count), 3)|\n",
      "+-----------+------------------------------------+\n",
      "|     Russia|                           1,422.175|\n",
      "|    Germany|                           2,040.225|\n",
      "|     France|                           1,322.381|\n",
      "|      India|                           1,484.779|\n",
      "|         US|                           6,453.191|\n",
      "|South Korea|                           1,516.151|\n",
      "|     Mexico|                           1,561.828|\n",
      "|     Canada|                           3,377.232|\n",
      "|      Japan|                             956.594|\n",
      "|    England|                          10,047.736|\n",
      "+-----------+------------------------------------+\n",
      "\n"
     ]
    }
   ],
   "source": [
    "average_by_group(nodup_data, \"country\", \"comment_count\").show()"
   ]
  },
  {
   "cell_type": "code",
   "execution_count": null,
   "metadata": {},
   "outputs": [],
   "source": []
  },
  {
   "cell_type": "code",
   "execution_count": 120,
   "metadata": {},
   "outputs": [
    {
     "name": "stdout",
     "output_type": "stream",
     "text": [
      "+---+---+---+\n",
      "|  A|  B|  C|\n",
      "+---+---+---+\n",
      "|  a|  5|  e|\n",
      "|  a|  8|  d|\n",
      "|  a|  7|  e|\n",
      "|  b|  1|  f|\n",
      "|  b|  3|  g|\n",
      "+---+---+---+\n",
      "\n"
     ]
    }
   ],
   "source": [
    "data = [\n",
    "    ('a', 5, 'e'),\n",
    "    ('a', 8, 'd'),\n",
    "    ('a', 7, 'e'),\n",
    "    ('b', 1, 'f'),\n",
    "    ('b', 3, 'g')\n",
    "]\n",
    "df = sqlContext.createDataFrame(data, [\"A\", \"B\", \"C\"])\n",
    "df.show()"
   ]
  },
  {
   "cell_type": "code",
   "execution_count": 127,
   "metadata": {},
   "outputs": [
    {
     "name": "stdout",
     "output_type": "stream",
     "text": [
      "+---+---+---+\n",
      "|  A|  B|  C|\n",
      "+---+---+---+\n",
      "|  b|  3|  g|\n",
      "|  a|  8|  d|\n",
      "+---+---+---+\n",
      "\n"
     ]
    }
   ],
   "source": [
    "df.orderBy(col(\"B\").desc()).dropDuplicates([\"A\"]).show()"
   ]
  },
  {
   "cell_type": "code",
   "execution_count": 121,
   "metadata": {},
   "outputs": [
    {
     "name": "stdout",
     "output_type": "stream",
     "text": [
      "+---+---+------+\n",
      "|  A|  C|max(B)|\n",
      "+---+---+------+\n",
      "|  a|  d|     8|\n",
      "|  b|  g|     3|\n",
      "|  b|  f|     1|\n",
      "|  a|  e|     7|\n",
      "+---+---+------+\n",
      "\n"
     ]
    }
   ],
   "source": [
    "df.groupBy(['A', 'C']).agg(max('B')).show()"
   ]
  },
  {
   "cell_type": "markdown",
   "metadata": {},
   "source": [
    "## Finding correlation"
   ]
  },
  {
   "cell_type": "code",
   "execution_count": 146,
   "metadata": {},
   "outputs": [],
   "source": [
    "from pyspark.ml.stat import Correlation\n",
    "from pyspark.ml.feature import VectorAssembler\n",
    "\n",
    "col = [\"views\", 'likes', 'dislikes', 'comment_count']\n",
    "inputdf = nodup_data.select(*col)"
   ]
  },
  {
   "cell_type": "code",
   "execution_count": 147,
   "metadata": {},
   "outputs": [],
   "source": [
    "# convert to vector column first\n",
    "vector_col = \"corr_features\"\n",
    "assembler = VectorAssembler(inputCols=inputdf.columns, outputCol=vector_col)\n",
    "df_vector = assembler.transform(inputdf).select(vector_col)\n",
    "\n",
    "# get correlation matrix\n",
    "matrix = Correlation.corr(df_vector, vector_col)"
   ]
  },
  {
   "cell_type": "code",
   "execution_count": 148,
   "metadata": {},
   "outputs": [
    {
     "data": {
      "text/plain": [
       "array([1.        , 0.74570112, 0.43851552, 0.52280981, 0.74570112,\n",
       "       1.        , 0.43848153, 0.80326274, 0.43851552, 0.43848153,\n",
       "       1.        , 0.6497269 , 0.52280981, 0.80326274, 0.6497269 ,\n",
       "       1.        ])"
      ]
     },
     "execution_count": 148,
     "metadata": {},
     "output_type": "execute_result"
    }
   ],
   "source": [
    "matrix.collect()[0][\"pearson({})\".format(vector_col)].values"
   ]
  },
  {
   "cell_type": "code",
   "execution_count": null,
   "metadata": {},
   "outputs": [],
   "source": []
  }
 ],
 "metadata": {
  "kernelspec": {
   "display_name": "Python 3",
   "language": "python",
   "name": "python3"
  },
  "language_info": {
   "codemirror_mode": {
    "name": "ipython",
    "version": 3
   },
   "file_extension": ".py",
   "mimetype": "text/x-python",
   "name": "python",
   "nbconvert_exporter": "python",
   "pygments_lexer": "ipython3",
   "version": "3.7.6"
  }
 },
 "nbformat": 4,
 "nbformat_minor": 4
}
